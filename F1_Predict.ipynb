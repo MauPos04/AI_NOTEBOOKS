{
 "cells": [
  {
   "cell_type": "markdown",
   "id": "4f37c5c1",
   "metadata": {},
   "source": [
    "# Predicciones F1 tomado de github"
   ]
  },
  {
   "cell_type": "markdown",
   "id": "3fc13a91",
   "metadata": {},
   "source": [
    "## Importaciones"
   ]
  },
  {
   "cell_type": "code",
   "execution_count": null,
   "id": "8a01bc96",
   "metadata": {},
   "outputs": [],
   "source": [
    "import fastf1\n",
    "import requests\n",
    "import pandas as pd\n",
    "import numpy as np\n",
    "import matplotlib.pyplot as plt\n",
    "import seaborn as sns\n",
    "from sklearn.linear_model import LinearRegression\n",
    "from sklearn.model_selection import train_test_split\n",
    "from sklearn.metrics import mean_squared_error, r2_score\n",
    "from sklearn.preprocessing import StandardScaler\n",
    "from sklearn.impute import SimpleImputer\n"
   ]
  },
  {
   "cell_type": "markdown",
   "id": "4d25bf37",
   "metadata": {},
   "source": [
    "## Fetch"
   ]
  },
  {
   "cell_type": "code",
   "execution_count": null,
   "id": "fbd66a1a",
   "metadata": {},
   "outputs": [],
   "source": [
    "fastf1.Cache.enable_cache('cache')"
   ]
  },
  {
   "cell_type": "markdown",
   "id": "78cad4a7",
   "metadata": {},
   "source": [
    "## Import Data from F1"
   ]
  },
  {
   "cell_type": "code",
   "execution_count": null,
   "id": "4493eda2",
   "metadata": {
    "vscode": {
     "languageId": "plaintext"
    }
   },
   "outputs": [],
   "source": [
    "def fetch_f1_data"
   ]
  }
 ],
 "metadata": {
  "kernelspec": {
   "display_name": "PersonalEnv",
   "language": "python",
   "name": "personalenv"
  },
  "language_info": {
   "name": "python",
   "version": "3.12.4"
  }
 },
 "nbformat": 4,
 "nbformat_minor": 5
}
