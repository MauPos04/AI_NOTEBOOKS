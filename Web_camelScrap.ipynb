{
 "cells": [
  {
   "cell_type": "markdown",
   "id": "5b9ff746",
   "metadata": {},
   "source": [
    "# CamelCamelCamel Price Scraper\n",
    "This notebook demonstrates how to scrape price history and current buy-box prices from CamelCamelCamel for a given Amazon ASIN."
   ]
  },
  {
   "cell_type": "code",
   "execution_count": 1,
   "id": "7f2dd0bd",
   "metadata": {},
   "outputs": [],
   "source": [
    "# Install required packages\n",
    "# !pip install selenium beautifulsoup4\n",
    "\n",
    "import time\n",
    "from selenium import webdriver\n",
    "from selenium.webdriver.chrome.options import Options\n",
    "from selenium.webdriver.common.by import By\n",
    "from selenium.webdriver.support.ui import WebDriverWait\n",
    "from selenium.webdriver.support import expected_conditions as EC\n",
    "from bs4 import BeautifulSoup"
   ]
  },
  {
   "cell_type": "code",
   "execution_count": 2,
   "id": "ae790090",
   "metadata": {},
   "outputs": [],
   "source": [
    "def scrape_ccc(asin):\n",
    "    url = f\"https://camelcamelcamel.com/product/{asin}\"\n",
    "\n",
    "    # Configure Chrome options without headless\n",
    "    opts = Options()\n",
    "    # opts.add_argument(\"--headless\")  # disable headless to render JS if needed\n",
    "    opts.add_argument(\"--disable-gpu\")\n",
    "    opts.add_argument(\"--no-sandbox\")\n",
    "    opts.add_argument(\"--disable-extensions\")\n",
    "\n",
    "    driver = webdriver.Chrome(options=opts)\n",
    "    driver.get(url)\n",
    "\n",
    "    # Wait for key elements to load\n",
    "    WebDriverWait(driver, 20).until(\n",
    "        EC.presence_of_element_located((By.CSS_SELECTOR, \"#product-header h2 a\"))\n",
    "    )\n",
    "    WebDriverWait(driver, 20).until(\n",
    "        EC.presence_of_element_located((By.ID, \"chartplaceholder\"))\n",
    "    )\n",
    "    time.sleep(5)\n",
    "\n",
    "    html = driver.page_source\n",
    "    driver.quit()\n",
    "\n",
    "    soup = BeautifulSoup(html, \"html.parser\")\n",
    "\n",
    "    # Extract title\n",
    "    titulo_el = soup.select_one(\"#product-header h2 a\")\n",
    "    titulo = titulo_el.get_text(strip=True) if titulo_el else \"N/D\"\n",
    "\n",
    "    # Extract ASIN\n",
    "    asin_scraped = None\n",
    "    for span in soup.select(\"span.product-title-field\"):\n",
    "        strong = span.find(\"strong\")\n",
    "        if strong and strong.get_text(strip=True) == \"ASIN\":\n",
    "            asin_scraped = span.get_text(strip=True).split(\":\", 1)[1].strip()\n",
    "            break\n",
    "\n",
    "    # Price history\n",
    "    historial = {}\n",
    "    for row in soup.select(\"table.camelegend tbody tr\"):\n",
    "        cols = row.find_all(\"td\")\n",
    "        if len(cols) >= 5:\n",
    "            tipo = cols[0].get_text(strip=True)\n",
    "            lowest = cols[1].get_text(strip=True)\n",
    "            highest = cols[2].get_text(strip=True)\n",
    "            current = cols[3].get_text(strip=True)\n",
    "            avg = cols[4].get_text(strip=True)\n",
    "            historial[tipo] = {\"lowest\": lowest, \"highest\": highest, \"current\": current, \"average\": avg}\n",
    "\n",
    "    # Current buy-box prices\n",
    "    buybox = {}\n",
    "    for cell in soup.select(\"#buy-box .top .grid-x .cell\"):\n",
    "        price_el = cell.select_one(\".bgp\")\n",
    "        label_el = cell.select_one(\".price-type-label\")\n",
    "        date_el = cell.select_one(\".pricing-date\")\n",
    "        if price_el and label_el:\n",
    "            key = label_el.get_text(strip=True)\n",
    "            buybox[key] = {\"price\": price_el.get_text(strip=True), \"as_of\": date_el.get_text(strip=True) if date_el else None}\n",
    "\n",
    "    return {\"titulo\": titulo, \"asin\": asin_scraped, \"historial\": historial, \"buybox\": buybox}"
   ]
  },
  {
   "cell_type": "markdown",
   "id": "b314133f",
   "metadata": {},
   "source": [
    "## Run Scraper\n",
    "Use the `scrape_ccc` function to fetch data for a specific ASIN and view the results."
   ]
  },
  {
   "cell_type": "code",
   "execution_count": 3,
   "id": "ea72f301",
   "metadata": {},
   "outputs": [
    {
     "name": "stdout",
     "output_type": "stream",
     "text": [
      "Title:    Apple iPad Air (5th Generation): with M1 chip,  10.9-inch Liquid Retina Display,  256GB,  Wi-Fi 6,  12MP front/ 12MP Back Camera,  Touch ID,  All-Day Battery Life – Blue\n",
      "ASIN:      B09V3K2RS4\n",
      "\n",
      "Price history:\n",
      "\n",
      "Current Buy-Box:\n",
      "  Amazon Price: {'price': 'Out of Stock', 'as_of': None}\n",
      "  3rd Party New Price: {'price': 'Out of Stock', 'as_of': None}\n",
      "  3rd Party Used Price: {'price': '$557.04', 'as_of': 'as of May 29, 2025 02:03 PM'}\n"
     ]
    }
   ],
   "source": [
    "# Example usage\n",
    "datos = scrape_ccc(\"B09V3K2RS4\")\n",
    "print(\"Title:   \", datos[\"titulo\"])\n",
    "print(\"ASIN:     \", datos[\"asin\"])\n",
    "\n",
    "print(\"\\nPrice history:\")\n",
    "for k, v in datos[\"historial\"].items():\n",
    "    print(f\"  {k}: {v}\")\n",
    "\n",
    "print(\"\\nCurrent Buy-Box:\")\n",
    "for k, v in datos[\"buybox\"].items():\n",
    "    print(f\"  {k}: {v}\")"
   ]
  },
  {
   "cell_type": "markdown",
   "id": "72603715",
   "metadata": {},
   "source": [
    "## Data Processing\n",
    "Convert the scraped buy-box data into a pandas DataFrame for analysis and display."
   ]
  },
  {
   "cell_type": "code",
   "execution_count": 4,
   "id": "24665684",
   "metadata": {},
   "outputs": [
    {
     "data": {
      "application/vnd.microsoft.datawrangler.viewer.v0+json": {
       "columns": [
        {
         "name": "index",
         "rawType": "int64",
         "type": "integer"
        },
        {
         "name": "Title",
         "rawType": "object",
         "type": "string"
        },
        {
         "name": "ASIN",
         "rawType": "object",
         "type": "string"
        },
        {
         "name": "Type",
         "rawType": "object",
         "type": "string"
        },
        {
         "name": "price",
         "rawType": "object",
         "type": "string"
        },
        {
         "name": "as_of",
         "rawType": "object",
         "type": "unknown"
        }
       ],
       "ref": "5c88c3d9-4704-44d1-9ac4-650aec3f104e",
       "rows": [
        [
         "0",
         "Apple iPad Air (5th Generation): with M1 chip,  10.9-inch Liquid Retina Display,  256GB,  Wi-Fi 6,  12MP front/ 12MP Back Camera,  Touch ID,  All-Day Battery Life – Blue",
         "B09V3K2RS4",
         "Amazon Price",
         "Out of Stock",
         null
        ],
        [
         "1",
         "Apple iPad Air (5th Generation): with M1 chip,  10.9-inch Liquid Retina Display,  256GB,  Wi-Fi 6,  12MP front/ 12MP Back Camera,  Touch ID,  All-Day Battery Life – Blue",
         "B09V3K2RS4",
         "3rd Party New Price",
         "Out of Stock",
         null
        ],
        [
         "2",
         "Apple iPad Air (5th Generation): with M1 chip,  10.9-inch Liquid Retina Display,  256GB,  Wi-Fi 6,  12MP front/ 12MP Back Camera,  Touch ID,  All-Day Battery Life – Blue",
         "B09V3K2RS4",
         "3rd Party Used Price",
         "$557.04",
         "as of May 29, 2025 02:03 PM"
        ]
       ],
       "shape": {
        "columns": 5,
        "rows": 3
       }
      },
      "text/html": [
       "<div>\n",
       "<style scoped>\n",
       "    .dataframe tbody tr th:only-of-type {\n",
       "        vertical-align: middle;\n",
       "    }\n",
       "\n",
       "    .dataframe tbody tr th {\n",
       "        vertical-align: top;\n",
       "    }\n",
       "\n",
       "    .dataframe thead th {\n",
       "        text-align: right;\n",
       "    }\n",
       "</style>\n",
       "<table border=\"1\" class=\"dataframe\">\n",
       "  <thead>\n",
       "    <tr style=\"text-align: right;\">\n",
       "      <th></th>\n",
       "      <th>Title</th>\n",
       "      <th>ASIN</th>\n",
       "      <th>Type</th>\n",
       "      <th>price</th>\n",
       "      <th>as_of</th>\n",
       "    </tr>\n",
       "  </thead>\n",
       "  <tbody>\n",
       "    <tr>\n",
       "      <th>0</th>\n",
       "      <td>Apple iPad Air (5th Generation): with M1 chip,...</td>\n",
       "      <td>B09V3K2RS4</td>\n",
       "      <td>Amazon Price</td>\n",
       "      <td>Out of Stock</td>\n",
       "      <td>None</td>\n",
       "    </tr>\n",
       "    <tr>\n",
       "      <th>1</th>\n",
       "      <td>Apple iPad Air (5th Generation): with M1 chip,...</td>\n",
       "      <td>B09V3K2RS4</td>\n",
       "      <td>3rd Party New Price</td>\n",
       "      <td>Out of Stock</td>\n",
       "      <td>None</td>\n",
       "    </tr>\n",
       "    <tr>\n",
       "      <th>2</th>\n",
       "      <td>Apple iPad Air (5th Generation): with M1 chip,...</td>\n",
       "      <td>B09V3K2RS4</td>\n",
       "      <td>3rd Party Used Price</td>\n",
       "      <td>$557.04</td>\n",
       "      <td>as of May 29, 2025 02:03 PM</td>\n",
       "    </tr>\n",
       "  </tbody>\n",
       "</table>\n",
       "</div>"
      ],
      "text/plain": [
       "                                               Title        ASIN  \\\n",
       "0  Apple iPad Air (5th Generation): with M1 chip,...  B09V3K2RS4   \n",
       "1  Apple iPad Air (5th Generation): with M1 chip,...  B09V3K2RS4   \n",
       "2  Apple iPad Air (5th Generation): with M1 chip,...  B09V3K2RS4   \n",
       "\n",
       "                   Type         price                        as_of  \n",
       "0          Amazon Price  Out of Stock                         None  \n",
       "1   3rd Party New Price  Out of Stock                         None  \n",
       "2  3rd Party Used Price       $557.04  as of May 29, 2025 02:03 PM  "
      ]
     },
     "execution_count": 4,
     "metadata": {},
     "output_type": "execute_result"
    }
   ],
   "source": [
    "import pandas as pd\n",
    "\n",
    "# Convert buybox to DataFrame\n",
    "buybox_df = pd.DataFrame.from_dict(datos[\"buybox\"], orient=\"index\")\n",
    "buybox_df.index.name = \"Type\"\n",
    "buybox_df.reset_index(inplace=True)\n",
    "\n",
    "# Add title and ASIN columns\n",
    "buybox_df[\"Title\"] = datos[\"titulo\"]\n",
    "buybox_df[\"ASIN\"] = datos[\"asin\"]\n",
    "\n",
    "# Reorder columns and display\n",
    "cols = [\"Title\", \"ASIN\", \"Type\", \"price\", \"as_of\"]\n",
    "buybox_df = buybox_df[cols]\n",
    "buybox_df"
   ]
  }
 ],
 "metadata": {
  "kernelspec": {
   "display_name": "venv",
   "language": "python",
   "name": "python3"
  },
  "language_info": {
   "codemirror_mode": {
    "name": "ipython",
    "version": 3
   },
   "file_extension": ".py",
   "mimetype": "text/x-python",
   "name": "python",
   "nbconvert_exporter": "python",
   "pygments_lexer": "ipython3",
   "version": "3.12.4"
  }
 },
 "nbformat": 4,
 "nbformat_minor": 5
}
